{
 "cells": [
  {
   "cell_type": "markdown",
   "id": "3d39abf7",
   "metadata": {},
   "source": [
    "# 官方10分钟教程中执行案例\n",
    "\n",
    "执行命令\n",
    "``` sh\n",
    "rqalpha run -f ./rqalpha/examples/buy_and_hold.py -s 2016-06-01 -e 2016-12-01 --account stock 100000 --benchmark 000300.XSHG --plot\n",
    "```  \n",
    "- `-a` `@click.option('-a', '--account', 'base__accounts', nargs=2, multiple=True, help=\"set account type with starting cash, eg: -a stock 1000000 -a future 1000000\")`\n",
    "> 这意味着-a 可以用来定义账户，且账户必须包括两个参数，一是账户名，二是账户内金额； `multiple=True`意味着该参数允许重复定义，即多个账户，举例中`-a stock 100000 -a future 1000000`就设置了两个账户，他们分别是：\n",
    "> | 账户 | 金额 |\n",
    "> | --- | --- |\n",
    "> | stock | 100000 |\n",
    "> | future | 1000000 |\n",
    "\n",
    "\n",
    "- `--plot` 参数并非`run`命令参数"
   ]
  }
 ],
 "metadata": {
  "language_info": {
   "name": "python"
  }
 },
 "nbformat": 4,
 "nbformat_minor": 5
}
