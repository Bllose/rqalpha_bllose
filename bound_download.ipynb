{
 "cells": [
  {
   "cell_type": "markdown",
   "id": "d1cce330",
   "metadata": {},
   "source": [
    "# [官方案例](https://rqalpha.readthedocs.io/zh-cn/latest/intro/install.html)"
   ]
  },
  {
   "cell_type": "markdown",
   "id": "9271e499",
   "metadata": {},
   "source": [
    "## 下载数据\n",
    "\n",
    "免费数据`rqalpha download-bundle`\n",
    "\n",
    "默认安装路径`~/.rqalpha`  \n",
    "\n",
    "该目录下文件：\n",
    "`dividends.h5`,`ex_cum_factor.h5`,`funds.h5`,`future_info.json`,`futures.h5`,`indexes.h5`,`instruments.pk`,`share_transformation.json`,`split_factor.h5`,`st_stock_days.h5`,`stocks.h5`,`suspended_days.h5`, `trading_dates.npy`, `yield_curve.h5`  \n",
    "\n",
    "一共10个H5文件，2个JSON文件，1个npy文件，1个pk文件。\n",
    "\n",
    "> - h5 文件指的是 Hierarchical Data Format 5（HDF5）文件 ，即层次数据格式第 5 代版本。它是用于存储科学数据的文件格式和库文件，由美国超级计算与应用中心研发，现由非营利组织 HDF 小组提供支持。\n",
    "> - npy 文件是 NumPy 库专有的二进制文件格式 ，用于高效存储和加载多维数组对象。\n",
    "> - pk 文件"
   ]
  },
  {
   "cell_type": "code",
   "execution_count": 3,
   "id": "5bcf2034",
   "metadata": {},
   "outputs": [
    {
     "name": "stdout",
     "output_type": "stream",
     "text": [
      "data\n",
      "[(20050104, 0.027393, 0.027712, 0.028029, 0.028344, 0.029278, 0.030195, 0.031095, 0.034527, 0.037687, 0.040577, 0.043195, 0.045542, 0.047618, 0.049423, 0.050958, 0.052221, 0.05447 , 0.049944, 0.020563,      nan,      nan)\n",
      " (20050105, 0.025691, 0.025962, 0.026232, 0.026501, 0.0273  , 0.028089, 0.028868, 0.031881, 0.03473 , 0.037415, 0.039936, 0.042293, 0.044487, 0.046516, 0.048382, 0.050084, 0.056134, 0.058088, 0.049705,      nan,      nan)\n",
      " (20050106, 0.024908, 0.02521 , 0.02551 , 0.025809, 0.026699, 0.027577, 0.028443, 0.031788, 0.034943, 0.037908, 0.040683, 0.043268, 0.045663, 0.047867, 0.049882, 0.051707, 0.057979, 0.0595  , 0.048289,      nan,      nan)\n",
      " ...\n",
      " (20250428, 0.013621, 0.014112, 0.0145  , 0.014508, 0.014697, 0.0146  , 0.014601, 0.01483 , 0.015177,      nan, 0.015393,      nan, 0.016029,      nan,      nan, 0.016483, 0.018012, 0.01953 , 0.019005, 0.019982, 0.020107)\n",
      " (20250429, 0.013624, 0.014512, 0.014523, 0.01485 , 0.014784, 0.01455 , 0.01455 , 0.014616, 0.015009,      nan, 0.015352,      nan, 0.015822,      nan,      nan, 0.016241, 0.017954, 0.019125, 0.018225, 0.019732, 0.019907)\n",
      " (20250430, 0.014121, 0.014483, 0.014494, 0.014659, 0.014691, 0.0145  , 0.014599, 0.014507, 0.014766,      nan, 0.015163,      nan, 0.015806,      nan,      nan, 0.016243, 0.017955, 0.019125, 0.01824 , 0.019692, 0.019813)]\n"
     ]
    }
   ],
   "source": [
    "import h5py\n",
    "\n",
    "file_path = r'C:\\Users\\bllos\\.rqalpha\\bundle\\yield_curve.h5'\n",
    "f = h5py.File(file_path, 'r')\n",
    "\n",
    "for name in f:\n",
    "    print(name)\n",
    "    data = f[name][:]\n",
    "    print(data)\n",
    "\n",
    "f.close()"
   ]
  },
  {
   "cell_type": "code",
   "execution_count": 5,
   "id": "4675201d",
   "metadata": {},
   "outputs": [
    {
     "name": "stdout",
     "output_type": "stream",
     "text": [
      "          date        0S        1M        2M        3M        6M        9M  \\\n",
      "0     20050104  0.027393  0.027712  0.028029  0.028344  0.029278  0.030195   \n",
      "1     20050105  0.025691  0.025962  0.026232  0.026501  0.027300  0.028089   \n",
      "2     20050106  0.024908  0.025210  0.025510  0.025809  0.026699  0.027577   \n",
      "3     20050107  0.023603  0.023918  0.024231  0.024542  0.025469  0.026384   \n",
      "4     20050110  0.024315  0.024628  0.024939  0.025249  0.026170  0.027079   \n",
      "...        ...       ...       ...       ...       ...       ...       ...   \n",
      "5080  20250425  0.013377  0.014312  0.014416  0.014468  0.014793  0.014500   \n",
      "5081  20250427  0.013571  0.014112  0.014566  0.014618  0.014793  0.014500   \n",
      "5082  20250428  0.013621  0.014112  0.014500  0.014508  0.014697  0.014600   \n",
      "5083  20250429  0.013624  0.014512  0.014523  0.014850  0.014784  0.014550   \n",
      "5084  20250430  0.014121  0.014483  0.014494  0.014659  0.014691  0.014500   \n",
      "\n",
      "            1Y        2Y        3Y  ...        6Y        7Y        8Y  \\\n",
      "0     0.031095  0.034527  0.037687  ...  0.045542  0.047618  0.049423   \n",
      "1     0.028868  0.031881  0.034730  ...  0.042293  0.044487  0.046516   \n",
      "2     0.028443  0.031788  0.034943  ...  0.043268  0.045663  0.047867   \n",
      "3     0.027286  0.030772  0.034060  ...  0.042735  0.045232  0.047530   \n",
      "4     0.027976  0.031438  0.034702  ...  0.043302  0.045771  0.048042   \n",
      "...        ...       ...       ...  ...       ...       ...       ...   \n",
      "5080  0.014501  0.014838  0.015192  ...       NaN  0.016158       NaN   \n",
      "5081  0.014501  0.014788  0.015230  ...       NaN  0.016161       NaN   \n",
      "5082  0.014601  0.014830  0.015177  ...       NaN  0.016029       NaN   \n",
      "5083  0.014550  0.014616  0.015009  ...       NaN  0.015822       NaN   \n",
      "5084  0.014599  0.014507  0.014766  ...       NaN  0.015806       NaN   \n",
      "\n",
      "            9Y       10Y       15Y       20Y       30Y       40Y       50Y  \n",
      "0     0.050958  0.052221  0.054470  0.049944  0.020563       NaN       NaN  \n",
      "1     0.048382  0.050084  0.056134  0.058088  0.049705       NaN       NaN  \n",
      "2     0.049882  0.051707  0.057979  0.059500  0.048289       NaN       NaN  \n",
      "3     0.049630  0.051533  0.058077  0.059674  0.048026       NaN       NaN  \n",
      "4     0.050114  0.051988  0.058377  0.059803  0.047760       NaN       NaN  \n",
      "...        ...       ...       ...       ...       ...       ...       ...  \n",
      "5080       NaN  0.016606  0.018195  0.019772  0.019276  0.020093  0.020206  \n",
      "5081       NaN  0.016607  0.018200  0.019780  0.019252  0.020081  0.020206  \n",
      "5082       NaN  0.016483  0.018012  0.019530  0.019005  0.019982  0.020107  \n",
      "5083       NaN  0.016241  0.017954  0.019125  0.018225  0.019732  0.019907  \n",
      "5084       NaN  0.016243  0.017955  0.019125  0.018240  0.019692  0.019813  \n",
      "\n",
      "[5085 rows x 22 columns]\n"
     ]
    },
    {
     "name": "stderr",
     "output_type": "stream",
     "text": [
      "c:\\Users\\bllos\\miniconda3\\envs\\rqalpha\\Lib\\site-packages\\tables\\path.py:146: NaturalNameWarning: object name is not a valid Python identifier: '0S'; it does not match the pattern ``^[a-zA-Z_][a-zA-Z0-9_]*$``; you will not be able to use natural naming to access this object; using ``getattr()`` will still work, though\n",
      "  check_attribute_name(name)\n",
      "c:\\Users\\bllos\\miniconda3\\envs\\rqalpha\\Lib\\site-packages\\tables\\path.py:146: NaturalNameWarning: object name is not a valid Python identifier: '1M'; it does not match the pattern ``^[a-zA-Z_][a-zA-Z0-9_]*$``; you will not be able to use natural naming to access this object; using ``getattr()`` will still work, though\n",
      "  check_attribute_name(name)\n",
      "c:\\Users\\bllos\\miniconda3\\envs\\rqalpha\\Lib\\site-packages\\tables\\path.py:146: NaturalNameWarning: object name is not a valid Python identifier: '2M'; it does not match the pattern ``^[a-zA-Z_][a-zA-Z0-9_]*$``; you will not be able to use natural naming to access this object; using ``getattr()`` will still work, though\n",
      "  check_attribute_name(name)\n",
      "c:\\Users\\bllos\\miniconda3\\envs\\rqalpha\\Lib\\site-packages\\tables\\path.py:146: NaturalNameWarning: object name is not a valid Python identifier: '3M'; it does not match the pattern ``^[a-zA-Z_][a-zA-Z0-9_]*$``; you will not be able to use natural naming to access this object; using ``getattr()`` will still work, though\n",
      "  check_attribute_name(name)\n",
      "c:\\Users\\bllos\\miniconda3\\envs\\rqalpha\\Lib\\site-packages\\tables\\path.py:146: NaturalNameWarning: object name is not a valid Python identifier: '6M'; it does not match the pattern ``^[a-zA-Z_][a-zA-Z0-9_]*$``; you will not be able to use natural naming to access this object; using ``getattr()`` will still work, though\n",
      "  check_attribute_name(name)\n",
      "c:\\Users\\bllos\\miniconda3\\envs\\rqalpha\\Lib\\site-packages\\tables\\path.py:146: NaturalNameWarning: object name is not a valid Python identifier: '9M'; it does not match the pattern ``^[a-zA-Z_][a-zA-Z0-9_]*$``; you will not be able to use natural naming to access this object; using ``getattr()`` will still work, though\n",
      "  check_attribute_name(name)\n",
      "c:\\Users\\bllos\\miniconda3\\envs\\rqalpha\\Lib\\site-packages\\tables\\path.py:146: NaturalNameWarning: object name is not a valid Python identifier: '1Y'; it does not match the pattern ``^[a-zA-Z_][a-zA-Z0-9_]*$``; you will not be able to use natural naming to access this object; using ``getattr()`` will still work, though\n",
      "  check_attribute_name(name)\n",
      "c:\\Users\\bllos\\miniconda3\\envs\\rqalpha\\Lib\\site-packages\\tables\\path.py:146: NaturalNameWarning: object name is not a valid Python identifier: '2Y'; it does not match the pattern ``^[a-zA-Z_][a-zA-Z0-9_]*$``; you will not be able to use natural naming to access this object; using ``getattr()`` will still work, though\n",
      "  check_attribute_name(name)\n",
      "c:\\Users\\bllos\\miniconda3\\envs\\rqalpha\\Lib\\site-packages\\tables\\path.py:146: NaturalNameWarning: object name is not a valid Python identifier: '3Y'; it does not match the pattern ``^[a-zA-Z_][a-zA-Z0-9_]*$``; you will not be able to use natural naming to access this object; using ``getattr()`` will still work, though\n",
      "  check_attribute_name(name)\n",
      "c:\\Users\\bllos\\miniconda3\\envs\\rqalpha\\Lib\\site-packages\\tables\\path.py:146: NaturalNameWarning: object name is not a valid Python identifier: '4Y'; it does not match the pattern ``^[a-zA-Z_][a-zA-Z0-9_]*$``; you will not be able to use natural naming to access this object; using ``getattr()`` will still work, though\n",
      "  check_attribute_name(name)\n",
      "c:\\Users\\bllos\\miniconda3\\envs\\rqalpha\\Lib\\site-packages\\tables\\path.py:146: NaturalNameWarning: object name is not a valid Python identifier: '5Y'; it does not match the pattern ``^[a-zA-Z_][a-zA-Z0-9_]*$``; you will not be able to use natural naming to access this object; using ``getattr()`` will still work, though\n",
      "  check_attribute_name(name)\n",
      "c:\\Users\\bllos\\miniconda3\\envs\\rqalpha\\Lib\\site-packages\\tables\\path.py:146: NaturalNameWarning: object name is not a valid Python identifier: '6Y'; it does not match the pattern ``^[a-zA-Z_][a-zA-Z0-9_]*$``; you will not be able to use natural naming to access this object; using ``getattr()`` will still work, though\n",
      "  check_attribute_name(name)\n",
      "c:\\Users\\bllos\\miniconda3\\envs\\rqalpha\\Lib\\site-packages\\tables\\path.py:146: NaturalNameWarning: object name is not a valid Python identifier: '7Y'; it does not match the pattern ``^[a-zA-Z_][a-zA-Z0-9_]*$``; you will not be able to use natural naming to access this object; using ``getattr()`` will still work, though\n",
      "  check_attribute_name(name)\n",
      "c:\\Users\\bllos\\miniconda3\\envs\\rqalpha\\Lib\\site-packages\\tables\\path.py:146: NaturalNameWarning: object name is not a valid Python identifier: '8Y'; it does not match the pattern ``^[a-zA-Z_][a-zA-Z0-9_]*$``; you will not be able to use natural naming to access this object; using ``getattr()`` will still work, though\n",
      "  check_attribute_name(name)\n",
      "c:\\Users\\bllos\\miniconda3\\envs\\rqalpha\\Lib\\site-packages\\tables\\path.py:146: NaturalNameWarning: object name is not a valid Python identifier: '9Y'; it does not match the pattern ``^[a-zA-Z_][a-zA-Z0-9_]*$``; you will not be able to use natural naming to access this object; using ``getattr()`` will still work, though\n",
      "  check_attribute_name(name)\n",
      "c:\\Users\\bllos\\miniconda3\\envs\\rqalpha\\Lib\\site-packages\\tables\\path.py:146: NaturalNameWarning: object name is not a valid Python identifier: '10Y'; it does not match the pattern ``^[a-zA-Z_][a-zA-Z0-9_]*$``; you will not be able to use natural naming to access this object; using ``getattr()`` will still work, though\n",
      "  check_attribute_name(name)\n",
      "c:\\Users\\bllos\\miniconda3\\envs\\rqalpha\\Lib\\site-packages\\tables\\path.py:146: NaturalNameWarning: object name is not a valid Python identifier: '15Y'; it does not match the pattern ``^[a-zA-Z_][a-zA-Z0-9_]*$``; you will not be able to use natural naming to access this object; using ``getattr()`` will still work, though\n",
      "  check_attribute_name(name)\n",
      "c:\\Users\\bllos\\miniconda3\\envs\\rqalpha\\Lib\\site-packages\\tables\\path.py:146: NaturalNameWarning: object name is not a valid Python identifier: '20Y'; it does not match the pattern ``^[a-zA-Z_][a-zA-Z0-9_]*$``; you will not be able to use natural naming to access this object; using ``getattr()`` will still work, though\n",
      "  check_attribute_name(name)\n",
      "c:\\Users\\bllos\\miniconda3\\envs\\rqalpha\\Lib\\site-packages\\tables\\path.py:146: NaturalNameWarning: object name is not a valid Python identifier: '30Y'; it does not match the pattern ``^[a-zA-Z_][a-zA-Z0-9_]*$``; you will not be able to use natural naming to access this object; using ``getattr()`` will still work, though\n",
      "  check_attribute_name(name)\n",
      "c:\\Users\\bllos\\miniconda3\\envs\\rqalpha\\Lib\\site-packages\\tables\\path.py:146: NaturalNameWarning: object name is not a valid Python identifier: '40Y'; it does not match the pattern ``^[a-zA-Z_][a-zA-Z0-9_]*$``; you will not be able to use natural naming to access this object; using ``getattr()`` will still work, though\n",
      "  check_attribute_name(name)\n",
      "c:\\Users\\bllos\\miniconda3\\envs\\rqalpha\\Lib\\site-packages\\tables\\path.py:146: NaturalNameWarning: object name is not a valid Python identifier: '50Y'; it does not match the pattern ``^[a-zA-Z_][a-zA-Z0-9_]*$``; you will not be able to use natural naming to access this object; using ``getattr()`` will still work, though\n",
      "  check_attribute_name(name)\n"
     ]
    }
   ],
   "source": [
    "import pandas as pd\n",
    "dataframe = pd.read_hdf(file_path, 'data')\n",
    "print(dataframe)"
   ]
  },
  {
   "cell_type": "markdown",
   "id": "c98aca30",
   "metadata": {},
   "source": [
    "`rqalpha download-bundle` 源码分析\n",
    "rqalpha.cmds.bundle.download_bundle\n",
    "\n",
    "代理设置环境变量`RQALPHA_PROXY`\n",
    "\n",
    "\n",
    "在文件的具体下载逻辑中还支持断点续传，重试次数默认3次\n",
    "``` python\n",
    "def download(out, total_length, url):\n",
    "    retry_interval = 3\n",
    "    retry_times = 5\n",
    "    proxy_uri = os.environ.get('RQALPHA_PROXY')\n",
    "\n",
    "    # 通过click.progressbar进行进度条展示\n",
    "    # 进度条总长度为`total_length`,即文件大小，同时通过下面的短线续传功能，保障多次重试也能正确展示进度\n",
    "    with click.progressbar(length=total_length, label=_(u\"downloading ...\")) as bar:\n",
    "        for i in range(retry_times):\n",
    "            try:\n",
    "                # 通过headers推送bytes=[position]-来告诉服务器从第position的字节位置开始传输，而不是整个文件进行传递\n",
    "                headers = {'Range': \"bytes={}-\".format(bar.pos)}\n",
    "                r = requests.get(url, headers=headers, stream=True, timeout=10, proxies={'http': proxy_uri,\n",
    "                                                                                         'https': proxy_uri})\n",
    "                for data in r.iter_content(chunk_size=8192):\n",
    "                    bar.update(len(data))\n",
    "                    out.write(data)\n",
    "\n",
    "                if total_length == bar.pos:\n",
    "                    return True  # Download complete . exit\n",
    "            except requests.exceptions.RequestException:\n",
    "                if i < retry_times - 1:\n",
    "                    six.print_(_(\"\\nDownload failed, retry in {} seconds.\".format(retry_interval)))\n",
    "                    time.sleep(retry_interval)\n",
    "                else:\n",
    "                    raise\n",
    "```"
   ]
  },
  {
   "cell_type": "code",
   "execution_count": 2,
   "id": "6fd6b517",
   "metadata": {},
   "outputs": [
    {
     "name": "stdout",
     "output_type": "stream",
     "text": [
      "<Result okay>\n"
     ]
    }
   ],
   "source": [
    "from rqalpha.cmds.entry import cli\n",
    "from click.testing import CliRunner\n",
    "\n",
    "runner = CliRunner()\n",
    "\n",
    "result = runner.invoke(cli, ['download-bundle', '-d', 'd:/temp/bundle4'])\n",
    "\n",
    "print(result)"
   ]
  },
  {
   "cell_type": "markdown",
   "id": "970df3b7",
   "metadata": {},
   "source": []
  }
 ],
 "metadata": {
  "kernelspec": {
   "display_name": "rqalpha",
   "language": "python",
   "name": "python3"
  },
  "language_info": {
   "codemirror_mode": {
    "name": "ipython",
    "version": 3
   },
   "file_extension": ".py",
   "mimetype": "text/x-python",
   "name": "python",
   "nbconvert_exporter": "python",
   "pygments_lexer": "ipython3",
   "version": "3.12.9"
  }
 },
 "nbformat": 4,
 "nbformat_minor": 5
}
